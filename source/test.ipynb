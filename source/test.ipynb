{
 "cells": [
  {
   "cell_type": "code",
   "execution_count": 164,
   "metadata": {
    "collapsed": true
   },
   "outputs": [],
   "source": [
    "# import des librairies\n",
    "import numpy as np\n",
    "import matplotlib.pyplot as plt\n",
    "import pandas as pd\n",
    "import mysql.connector"
   ]
  },
  {
   "cell_type": "code",
   "execution_count": 165,
   "outputs": [],
   "source": [
    "# Lecture du fichier csv\n",
    "df = pd.read_csv('../data/fr-esr-insertion_professionnelle-master.csv', delimiter=';')"
   ],
   "metadata": {
    "collapsed": false,
    "pycharm": {
     "name": "#%%\n"
    }
   }
  },
  {
   "cell_type": "code",
   "execution_count": 166,
   "outputs": [],
   "source": [
    "# Connecter à la base de données\n",
    "mydb = mysql.connector.connect(\n",
    "  host=\"localhost\",\n",
    "  user=\"root\",\n",
    "  passwd=\"Goodboy.5\",\n",
    "  database=\"insertion_pro\",\n",
    "  auth_plugin='mysql_native_password'\n",
    ")"
   ],
   "metadata": {
    "collapsed": false,
    "pycharm": {
     "name": "#%%\n"
    }
   }
  },
  {
   "cell_type": "code",
   "execution_count": 167,
   "outputs": [],
   "source": [
    "# Remove all the rows where the column \"remarque\" is not empty\n",
    "df = df[df['remarque'].isnull()]"
   ],
   "metadata": {
    "collapsed": false,
    "pycharm": {
     "name": "#%%\n"
    }
   }
  },
  {
   "cell_type": "code",
   "execution_count": 168,
   "outputs": [],
   "source": [
    "## Insert values to Academie table\n",
    "# Fetch the needed columns\n",
    "id_academie = df['code_de_l_academie']\n",
    "nom_academie = df['academie']\n",
    "\n",
    "# Delete all duplicates id academies using panda's drop_duplicates function\n",
    "id_academie = id_academie.drop_duplicates()\n",
    "nom_academie = nom_academie.drop_duplicates()\n",
    "\n",
    "# Delete null values\n",
    "id_academie = id_academie.dropna()\n",
    "nom_academie = nom_academie.dropna()\n",
    "\n",
    "# Fetch only values\n",
    "id_academie = id_academie.values\n",
    "nom_academie = nom_academie.values"
   ],
   "metadata": {
    "collapsed": false,
    "pycharm": {
     "name": "#%%\n"
    }
   }
  },
  {
   "cell_type": "code",
   "execution_count": 169,
   "outputs": [
    {
     "ename": "IntegrityError",
     "evalue": "1062 (23000): Duplicate entry 'A18' for key 'academie.PRIMARY'",
     "output_type": "error",
     "traceback": [
      "\u001B[0;31m---------------------------------------------------------------------------\u001B[0m",
      "\u001B[0;31mIntegrityError\u001B[0m                            Traceback (most recent call last)",
      "\u001B[0;32m/var/folders/7q/30dlr18s4h5bp02klcmzvjhr0000gn/T/ipykernel_1075/4192604412.py\u001B[0m in \u001B[0;36m<module>\u001B[0;34m\u001B[0m\n\u001B[1;32m      4\u001B[0m     \u001B[0mval\u001B[0m \u001B[0;34m=\u001B[0m \u001B[0;34m(\u001B[0m\u001B[0mid_academie\u001B[0m\u001B[0;34m[\u001B[0m\u001B[0mi\u001B[0m\u001B[0;34m]\u001B[0m\u001B[0;34m,\u001B[0m \u001B[0mnom_academie\u001B[0m\u001B[0;34m[\u001B[0m\u001B[0mi\u001B[0m\u001B[0;34m]\u001B[0m\u001B[0;34m)\u001B[0m\u001B[0;34m\u001B[0m\u001B[0;34m\u001B[0m\u001B[0m\n\u001B[1;32m      5\u001B[0m     \u001B[0mmycursor\u001B[0m \u001B[0;34m=\u001B[0m \u001B[0mmydb\u001B[0m\u001B[0;34m.\u001B[0m\u001B[0mcursor\u001B[0m\u001B[0;34m(\u001B[0m\u001B[0;34m)\u001B[0m\u001B[0;34m\u001B[0m\u001B[0;34m\u001B[0m\u001B[0m\n\u001B[0;32m----> 6\u001B[0;31m     \u001B[0mmycursor\u001B[0m\u001B[0;34m.\u001B[0m\u001B[0mexecute\u001B[0m\u001B[0;34m(\u001B[0m\u001B[0msql\u001B[0m\u001B[0;34m,\u001B[0m \u001B[0mval\u001B[0m\u001B[0;34m)\u001B[0m\u001B[0;34m\u001B[0m\u001B[0;34m\u001B[0m\u001B[0m\n\u001B[0m\u001B[1;32m      7\u001B[0m     \u001B[0mmydb\u001B[0m\u001B[0;34m.\u001B[0m\u001B[0mcommit\u001B[0m\u001B[0;34m(\u001B[0m\u001B[0;34m)\u001B[0m\u001B[0;34m\u001B[0m\u001B[0;34m\u001B[0m\u001B[0m\n",
      "\u001B[0;32m~/Documents/M2-ISI/GLG/venv/lib/python3.8/site-packages/mysql/connector/cursor.py\u001B[0m in \u001B[0;36mexecute\u001B[0;34m(self, operation, params, multi)\u001B[0m\n\u001B[1;32m    549\u001B[0m         \u001B[0;32melse\u001B[0m\u001B[0;34m:\u001B[0m\u001B[0;34m\u001B[0m\u001B[0;34m\u001B[0m\u001B[0m\n\u001B[1;32m    550\u001B[0m             \u001B[0;32mtry\u001B[0m\u001B[0;34m:\u001B[0m\u001B[0;34m\u001B[0m\u001B[0;34m\u001B[0m\u001B[0m\n\u001B[0;32m--> 551\u001B[0;31m                 \u001B[0mself\u001B[0m\u001B[0;34m.\u001B[0m\u001B[0m_handle_result\u001B[0m\u001B[0;34m(\u001B[0m\u001B[0mself\u001B[0m\u001B[0;34m.\u001B[0m\u001B[0m_connection\u001B[0m\u001B[0;34m.\u001B[0m\u001B[0mcmd_query\u001B[0m\u001B[0;34m(\u001B[0m\u001B[0mstmt\u001B[0m\u001B[0;34m)\u001B[0m\u001B[0;34m)\u001B[0m\u001B[0;34m\u001B[0m\u001B[0;34m\u001B[0m\u001B[0m\n\u001B[0m\u001B[1;32m    552\u001B[0m             \u001B[0;32mexcept\u001B[0m \u001B[0merrors\u001B[0m\u001B[0;34m.\u001B[0m\u001B[0mInterfaceError\u001B[0m\u001B[0;34m:\u001B[0m\u001B[0;34m\u001B[0m\u001B[0;34m\u001B[0m\u001B[0m\n\u001B[1;32m    553\u001B[0m                 \u001B[0;32mif\u001B[0m \u001B[0mself\u001B[0m\u001B[0;34m.\u001B[0m\u001B[0m_connection\u001B[0m\u001B[0;34m.\u001B[0m\u001B[0m_have_next_result\u001B[0m\u001B[0;34m:\u001B[0m  \u001B[0;31m# pylint: disable=W0212\u001B[0m\u001B[0;34m\u001B[0m\u001B[0;34m\u001B[0m\u001B[0m\n",
      "\u001B[0;32m~/Documents/M2-ISI/GLG/venv/lib/python3.8/site-packages/mysql/connector/connection.py\u001B[0m in \u001B[0;36mcmd_query\u001B[0;34m(self, query, raw, buffered, raw_as_string)\u001B[0m\n\u001B[1;32m    488\u001B[0m         \u001B[0;32mif\u001B[0m \u001B[0;32mnot\u001B[0m \u001B[0misinstance\u001B[0m\u001B[0;34m(\u001B[0m\u001B[0mquery\u001B[0m\u001B[0;34m,\u001B[0m \u001B[0mbytes\u001B[0m\u001B[0;34m)\u001B[0m\u001B[0;34m:\u001B[0m\u001B[0;34m\u001B[0m\u001B[0;34m\u001B[0m\u001B[0m\n\u001B[1;32m    489\u001B[0m             \u001B[0mquery\u001B[0m \u001B[0;34m=\u001B[0m \u001B[0mquery\u001B[0m\u001B[0;34m.\u001B[0m\u001B[0mencode\u001B[0m\u001B[0;34m(\u001B[0m\u001B[0;34m'utf-8'\u001B[0m\u001B[0;34m)\u001B[0m\u001B[0;34m\u001B[0m\u001B[0;34m\u001B[0m\u001B[0m\n\u001B[0;32m--> 490\u001B[0;31m         \u001B[0mresult\u001B[0m \u001B[0;34m=\u001B[0m \u001B[0mself\u001B[0m\u001B[0;34m.\u001B[0m\u001B[0m_handle_result\u001B[0m\u001B[0;34m(\u001B[0m\u001B[0mself\u001B[0m\u001B[0;34m.\u001B[0m\u001B[0m_send_cmd\u001B[0m\u001B[0;34m(\u001B[0m\u001B[0mServerCmd\u001B[0m\u001B[0;34m.\u001B[0m\u001B[0mQUERY\u001B[0m\u001B[0;34m,\u001B[0m \u001B[0mquery\u001B[0m\u001B[0;34m)\u001B[0m\u001B[0;34m)\u001B[0m\u001B[0;34m\u001B[0m\u001B[0;34m\u001B[0m\u001B[0m\n\u001B[0m\u001B[1;32m    491\u001B[0m \u001B[0;34m\u001B[0m\u001B[0m\n\u001B[1;32m    492\u001B[0m         \u001B[0;32mif\u001B[0m \u001B[0mself\u001B[0m\u001B[0;34m.\u001B[0m\u001B[0m_have_next_result\u001B[0m\u001B[0;34m:\u001B[0m\u001B[0;34m\u001B[0m\u001B[0;34m\u001B[0m\u001B[0m\n",
      "\u001B[0;32m~/Documents/M2-ISI/GLG/venv/lib/python3.8/site-packages/mysql/connector/connection.py\u001B[0m in \u001B[0;36m_handle_result\u001B[0;34m(self, packet)\u001B[0m\n\u001B[1;32m    393\u001B[0m             \u001B[0;32mreturn\u001B[0m \u001B[0mself\u001B[0m\u001B[0;34m.\u001B[0m\u001B[0m_handle_eof\u001B[0m\u001B[0;34m(\u001B[0m\u001B[0mpacket\u001B[0m\u001B[0;34m)\u001B[0m\u001B[0;34m\u001B[0m\u001B[0;34m\u001B[0m\u001B[0m\n\u001B[1;32m    394\u001B[0m         \u001B[0;32melif\u001B[0m \u001B[0mpacket\u001B[0m\u001B[0;34m[\u001B[0m\u001B[0;36m4\u001B[0m\u001B[0;34m]\u001B[0m \u001B[0;34m==\u001B[0m \u001B[0;36m255\u001B[0m\u001B[0;34m:\u001B[0m\u001B[0;34m\u001B[0m\u001B[0;34m\u001B[0m\u001B[0m\n\u001B[0;32m--> 395\u001B[0;31m             \u001B[0;32mraise\u001B[0m \u001B[0merrors\u001B[0m\u001B[0;34m.\u001B[0m\u001B[0mget_exception\u001B[0m\u001B[0;34m(\u001B[0m\u001B[0mpacket\u001B[0m\u001B[0;34m)\u001B[0m\u001B[0;34m\u001B[0m\u001B[0;34m\u001B[0m\u001B[0m\n\u001B[0m\u001B[1;32m    396\u001B[0m \u001B[0;34m\u001B[0m\u001B[0m\n\u001B[1;32m    397\u001B[0m         \u001B[0;31m# We have a text result set\u001B[0m\u001B[0;34m\u001B[0m\u001B[0;34m\u001B[0m\u001B[0;34m\u001B[0m\u001B[0m\n",
      "\u001B[0;31mIntegrityError\u001B[0m: 1062 (23000): Duplicate entry 'A18' for key 'academie.PRIMARY'"
     ]
    }
   ],
   "source": [
    "# Insert values to Academie table\n",
    "for i in range(len(id_academie)):\n",
    "    sql = \"INSERT INTO academie (id_academie, nom_academie) VALUES (%s, %s)\"\n",
    "    val = (id_academie[i], nom_academie[i])\n",
    "    mycursor = mydb.cursor()\n",
    "    mycursor.execute(sql, val)\n",
    "    mydb.commit()"
   ],
   "metadata": {
    "collapsed": false,
    "pycharm": {
     "name": "#%%\n"
    }
   }
  },
  {
   "cell_type": "code",
   "execution_count": 170,
   "outputs": [],
   "source": [
    "## Insert values to Etablisement table\n",
    "# Fetch the needed columns\n",
    "# Delete all rows where numero_d_etablissement is duplicated\n",
    "df_id_etablissement = df.drop_duplicates(subset='numero_de_l_etablissement')\n",
    "\n",
    "# Delete all rows where id_academie is null\n",
    "df_id_etablissement = df_id_etablissement[df_id_etablissement['code_de_l_academie'].notnull()]\n",
    "\n",
    "# Replace all null values by None\n",
    "df_id_etablissement = df_id_etablissement.where((pd.notnull(df_id_etablissement)), None)\n",
    "\n",
    "# Fetch the needed columns\n",
    "id_etablissement = df_id_etablissement['numero_de_l_etablissement'].values\n",
    "id_academie = df_id_etablissement['code_de_l_academie'].values\n",
    "nom_etablissement = df_id_etablissement['etablissement'].values\n",
    "nom_etablissement_actuel = df_id_etablissement['etablissementactuel'].values"
   ],
   "metadata": {
    "collapsed": false,
    "pycharm": {
     "name": "#%%\n"
    }
   }
  },
  {
   "cell_type": "code",
   "execution_count": 171,
   "outputs": [],
   "source": [
    "# Insert values to Etablissement table\n",
    "# If value is nan then insert null\n",
    "# Check if the value is already in the table\n",
    "for i in range(len(id_etablissement)):\n",
    "    sql = \"SELECT * FROM etablissement WHERE id_etablissement = %s\"\n",
    "    val = (id_etablissement[i],)\n",
    "    mycursor = mydb.cursor()\n",
    "    mycursor.execute(sql, val)\n",
    "    myresult = mycursor.fetchall()\n",
    "    if len(myresult) == 0:\n",
    "        sql = \"INSERT INTO etablissement (id_etablissement, id_academie, nom_etablissement, nom_etablissement_actuel) VALUES (%s, %s, %s, %s)\"\n",
    "        val = (id_etablissement[i], id_academie[i], nom_etablissement[i], nom_etablissement_actuel[i])\n",
    "        mycursor = mydb.cursor()\n",
    "        mycursor.execute(sql, val)\n",
    "        mydb.commit()"
   ],
   "metadata": {
    "collapsed": false,
    "pycharm": {
     "name": "#%%\n"
    }
   }
  },
  {
   "cell_type": "code",
   "execution_count": 172,
   "outputs": [],
   "source": [
    "## Insert values to Domaine table\n",
    "# Fetch the needed columns\n",
    "code_domaine = df['code_du_domaine']\n",
    "nom_domaine = df['domaine']\n",
    "\n",
    "# Delete all duplicates id academies using panda's drop_duplicates function\n",
    "code_domaine = code_domaine.drop_duplicates()\n",
    "nom_domaine = nom_domaine.drop_duplicates()\n",
    "\n",
    "# Delete null values\n",
    "code_domaine = code_domaine.dropna()\n",
    "nom_domaine = nom_domaine.dropna()\n",
    "\n",
    "# Fetch only values\n",
    "code_domaine = code_domaine.values\n",
    "nom_domaine = nom_domaine.values\n"
   ],
   "metadata": {
    "collapsed": false,
    "pycharm": {
     "name": "#%%\n"
    }
   }
  },
  {
   "cell_type": "code",
   "execution_count": 173,
   "outputs": [
    {
     "ename": "IntegrityError",
     "evalue": "1062 (23000): Duplicate entry 'DEG' for key 'domaine.PRIMARY'",
     "output_type": "error",
     "traceback": [
      "\u001B[0;31m---------------------------------------------------------------------------\u001B[0m",
      "\u001B[0;31mIntegrityError\u001B[0m                            Traceback (most recent call last)",
      "\u001B[0;32m/var/folders/7q/30dlr18s4h5bp02klcmzvjhr0000gn/T/ipykernel_1075/1852590107.py\u001B[0m in \u001B[0;36m<module>\u001B[0;34m\u001B[0m\n\u001B[1;32m      4\u001B[0m     \u001B[0mval\u001B[0m \u001B[0;34m=\u001B[0m \u001B[0;34m(\u001B[0m\u001B[0mcode_domaine\u001B[0m\u001B[0;34m[\u001B[0m\u001B[0mi\u001B[0m\u001B[0;34m]\u001B[0m\u001B[0;34m,\u001B[0m \u001B[0mnom_domaine\u001B[0m\u001B[0;34m[\u001B[0m\u001B[0mi\u001B[0m\u001B[0;34m]\u001B[0m\u001B[0;34m)\u001B[0m\u001B[0;34m\u001B[0m\u001B[0;34m\u001B[0m\u001B[0m\n\u001B[1;32m      5\u001B[0m     \u001B[0mmycursor\u001B[0m \u001B[0;34m=\u001B[0m \u001B[0mmydb\u001B[0m\u001B[0;34m.\u001B[0m\u001B[0mcursor\u001B[0m\u001B[0;34m(\u001B[0m\u001B[0;34m)\u001B[0m\u001B[0;34m\u001B[0m\u001B[0;34m\u001B[0m\u001B[0m\n\u001B[0;32m----> 6\u001B[0;31m     \u001B[0mmycursor\u001B[0m\u001B[0;34m.\u001B[0m\u001B[0mexecute\u001B[0m\u001B[0;34m(\u001B[0m\u001B[0msql\u001B[0m\u001B[0;34m,\u001B[0m \u001B[0mval\u001B[0m\u001B[0;34m)\u001B[0m\u001B[0;34m\u001B[0m\u001B[0;34m\u001B[0m\u001B[0m\n\u001B[0m\u001B[1;32m      7\u001B[0m     \u001B[0mmydb\u001B[0m\u001B[0;34m.\u001B[0m\u001B[0mcommit\u001B[0m\u001B[0;34m(\u001B[0m\u001B[0;34m)\u001B[0m\u001B[0;34m\u001B[0m\u001B[0;34m\u001B[0m\u001B[0m\n",
      "\u001B[0;32m~/Documents/M2-ISI/GLG/venv/lib/python3.8/site-packages/mysql/connector/cursor.py\u001B[0m in \u001B[0;36mexecute\u001B[0;34m(self, operation, params, multi)\u001B[0m\n\u001B[1;32m    549\u001B[0m         \u001B[0;32melse\u001B[0m\u001B[0;34m:\u001B[0m\u001B[0;34m\u001B[0m\u001B[0;34m\u001B[0m\u001B[0m\n\u001B[1;32m    550\u001B[0m             \u001B[0;32mtry\u001B[0m\u001B[0;34m:\u001B[0m\u001B[0;34m\u001B[0m\u001B[0;34m\u001B[0m\u001B[0m\n\u001B[0;32m--> 551\u001B[0;31m                 \u001B[0mself\u001B[0m\u001B[0;34m.\u001B[0m\u001B[0m_handle_result\u001B[0m\u001B[0;34m(\u001B[0m\u001B[0mself\u001B[0m\u001B[0;34m.\u001B[0m\u001B[0m_connection\u001B[0m\u001B[0;34m.\u001B[0m\u001B[0mcmd_query\u001B[0m\u001B[0;34m(\u001B[0m\u001B[0mstmt\u001B[0m\u001B[0;34m)\u001B[0m\u001B[0;34m)\u001B[0m\u001B[0;34m\u001B[0m\u001B[0;34m\u001B[0m\u001B[0m\n\u001B[0m\u001B[1;32m    552\u001B[0m             \u001B[0;32mexcept\u001B[0m \u001B[0merrors\u001B[0m\u001B[0;34m.\u001B[0m\u001B[0mInterfaceError\u001B[0m\u001B[0;34m:\u001B[0m\u001B[0;34m\u001B[0m\u001B[0;34m\u001B[0m\u001B[0m\n\u001B[1;32m    553\u001B[0m                 \u001B[0;32mif\u001B[0m \u001B[0mself\u001B[0m\u001B[0;34m.\u001B[0m\u001B[0m_connection\u001B[0m\u001B[0;34m.\u001B[0m\u001B[0m_have_next_result\u001B[0m\u001B[0;34m:\u001B[0m  \u001B[0;31m# pylint: disable=W0212\u001B[0m\u001B[0;34m\u001B[0m\u001B[0;34m\u001B[0m\u001B[0m\n",
      "\u001B[0;32m~/Documents/M2-ISI/GLG/venv/lib/python3.8/site-packages/mysql/connector/connection.py\u001B[0m in \u001B[0;36mcmd_query\u001B[0;34m(self, query, raw, buffered, raw_as_string)\u001B[0m\n\u001B[1;32m    488\u001B[0m         \u001B[0;32mif\u001B[0m \u001B[0;32mnot\u001B[0m \u001B[0misinstance\u001B[0m\u001B[0;34m(\u001B[0m\u001B[0mquery\u001B[0m\u001B[0;34m,\u001B[0m \u001B[0mbytes\u001B[0m\u001B[0;34m)\u001B[0m\u001B[0;34m:\u001B[0m\u001B[0;34m\u001B[0m\u001B[0;34m\u001B[0m\u001B[0m\n\u001B[1;32m    489\u001B[0m             \u001B[0mquery\u001B[0m \u001B[0;34m=\u001B[0m \u001B[0mquery\u001B[0m\u001B[0;34m.\u001B[0m\u001B[0mencode\u001B[0m\u001B[0;34m(\u001B[0m\u001B[0;34m'utf-8'\u001B[0m\u001B[0;34m)\u001B[0m\u001B[0;34m\u001B[0m\u001B[0;34m\u001B[0m\u001B[0m\n\u001B[0;32m--> 490\u001B[0;31m         \u001B[0mresult\u001B[0m \u001B[0;34m=\u001B[0m \u001B[0mself\u001B[0m\u001B[0;34m.\u001B[0m\u001B[0m_handle_result\u001B[0m\u001B[0;34m(\u001B[0m\u001B[0mself\u001B[0m\u001B[0;34m.\u001B[0m\u001B[0m_send_cmd\u001B[0m\u001B[0;34m(\u001B[0m\u001B[0mServerCmd\u001B[0m\u001B[0;34m.\u001B[0m\u001B[0mQUERY\u001B[0m\u001B[0;34m,\u001B[0m \u001B[0mquery\u001B[0m\u001B[0;34m)\u001B[0m\u001B[0;34m)\u001B[0m\u001B[0;34m\u001B[0m\u001B[0;34m\u001B[0m\u001B[0m\n\u001B[0m\u001B[1;32m    491\u001B[0m \u001B[0;34m\u001B[0m\u001B[0m\n\u001B[1;32m    492\u001B[0m         \u001B[0;32mif\u001B[0m \u001B[0mself\u001B[0m\u001B[0;34m.\u001B[0m\u001B[0m_have_next_result\u001B[0m\u001B[0;34m:\u001B[0m\u001B[0;34m\u001B[0m\u001B[0;34m\u001B[0m\u001B[0m\n",
      "\u001B[0;32m~/Documents/M2-ISI/GLG/venv/lib/python3.8/site-packages/mysql/connector/connection.py\u001B[0m in \u001B[0;36m_handle_result\u001B[0;34m(self, packet)\u001B[0m\n\u001B[1;32m    393\u001B[0m             \u001B[0;32mreturn\u001B[0m \u001B[0mself\u001B[0m\u001B[0;34m.\u001B[0m\u001B[0m_handle_eof\u001B[0m\u001B[0;34m(\u001B[0m\u001B[0mpacket\u001B[0m\u001B[0;34m)\u001B[0m\u001B[0;34m\u001B[0m\u001B[0;34m\u001B[0m\u001B[0m\n\u001B[1;32m    394\u001B[0m         \u001B[0;32melif\u001B[0m \u001B[0mpacket\u001B[0m\u001B[0;34m[\u001B[0m\u001B[0;36m4\u001B[0m\u001B[0;34m]\u001B[0m \u001B[0;34m==\u001B[0m \u001B[0;36m255\u001B[0m\u001B[0;34m:\u001B[0m\u001B[0;34m\u001B[0m\u001B[0;34m\u001B[0m\u001B[0m\n\u001B[0;32m--> 395\u001B[0;31m             \u001B[0;32mraise\u001B[0m \u001B[0merrors\u001B[0m\u001B[0;34m.\u001B[0m\u001B[0mget_exception\u001B[0m\u001B[0;34m(\u001B[0m\u001B[0mpacket\u001B[0m\u001B[0;34m)\u001B[0m\u001B[0;34m\u001B[0m\u001B[0;34m\u001B[0m\u001B[0m\n\u001B[0m\u001B[1;32m    396\u001B[0m \u001B[0;34m\u001B[0m\u001B[0m\n\u001B[1;32m    397\u001B[0m         \u001B[0;31m# We have a text result set\u001B[0m\u001B[0;34m\u001B[0m\u001B[0;34m\u001B[0m\u001B[0;34m\u001B[0m\u001B[0m\n",
      "\u001B[0;31mIntegrityError\u001B[0m: 1062 (23000): Duplicate entry 'DEG' for key 'domaine.PRIMARY'"
     ]
    }
   ],
   "source": [
    "# Insert values to Domaine table\n",
    "for i in range(len(code_domaine)):\n",
    "    sql = \"INSERT INTO domaine (code_domaine, nom_domaine) VALUES (%s, %s)\"\n",
    "    val = (code_domaine[i], nom_domaine[i])\n",
    "    mycursor = mydb.cursor()\n",
    "    mycursor.execute(sql, val)\n",
    "    mydb.commit()"
   ],
   "metadata": {
    "collapsed": false,
    "pycharm": {
     "name": "#%%\n"
    }
   }
  },
  {
   "cell_type": "code",
   "execution_count": 174,
   "outputs": [],
   "source": [
    "# Insert values to Discipline table\n",
    "# Fetch the needed columns\n",
    "# Delete all rows where code_de_la_discipline is duplicated\n",
    "df_code_discipline = df.drop_duplicates(subset='code_de_la_discipline')\n",
    "\n",
    "# Delete all rows where Domaine is null\n",
    "df_code_discipline = df_code_discipline[df_code_discipline['code_du_domaine'].notnull()]\n",
    "\n",
    "# Replace all null values by None\n",
    "df_code_discipline = df_code_discipline.where((pd.notnull(df_code_discipline)), None)\n",
    "\n",
    "# Fetch the needed columns\n",
    "id_discipline = df_code_discipline['code_de_la_discipline'].values\n",
    "code_domaine = df_code_discipline['code_du_domaine'].values\n",
    "nom_discipline = df_code_discipline['discipline'].values\n",
    "poids = df_code_discipline['poids_de_la_discipline'].values"
   ],
   "metadata": {
    "collapsed": false,
    "pycharm": {
     "name": "#%%\n"
    }
   }
  },
  {
   "cell_type": "code",
   "execution_count": 175,
   "outputs": [],
   "source": [
    "# Insert values to Discipline table\n",
    "# If value is nan then insert null\n",
    "# Check if the value is already in the table\n",
    "for i in range(len(id_discipline)):\n",
    "    sql = \"SELECT * FROM discipline WHERE id_discipline = %s\"\n",
    "    val = (id_discipline[i],)\n",
    "    mycursor = mydb.cursor()\n",
    "    mycursor.execute(sql, val)\n",
    "    myresult = mycursor.fetchall()\n",
    "    if len(myresult) == 0:\n",
    "        sql = \"INSERT INTO discipline (id_discipline, code_domaine, nom_discipline, poids) VALUES (%s, %s, %s, %s)\"\n",
    "        val = (id_discipline[i], code_domaine[i], nom_discipline[i], poids[i])\n",
    "        mycursor = mydb.cursor()\n",
    "        mycursor.execute(sql, val)\n",
    "        mydb.commit()"
   ],
   "metadata": {
    "collapsed": false,
    "pycharm": {
     "name": "#%%\n"
    }
   }
  },
  {
   "cell_type": "code",
   "execution_count": null,
   "outputs": [],
   "source": [
    "# Insert values to Statistiques table\n",
    "# Fetch the needed columns\n",
    "# Delete all rows where annee is duplicated\n",
    "df_annee = df.drop_duplicates(subset='annee')\n",
    "\n",
    "# Delete all rows where\n",
    "\n",
    "\n",
    "\n"
   ],
   "metadata": {
    "collapsed": false,
    "pycharm": {
     "name": "#%%\n"
    }
   }
  }
 ],
 "metadata": {
  "kernelspec": {
   "display_name": "Python 3",
   "language": "python",
   "name": "python3"
  },
  "language_info": {
   "codemirror_mode": {
    "name": "ipython",
    "version": 2
   },
   "file_extension": ".py",
   "mimetype": "text/x-python",
   "name": "python",
   "nbconvert_exporter": "python",
   "pygments_lexer": "ipython2",
   "version": "2.7.6"
  }
 },
 "nbformat": 4,
 "nbformat_minor": 0
}