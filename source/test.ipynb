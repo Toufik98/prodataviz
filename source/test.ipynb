{
 "cells": [
  {
   "cell_type": "code",
   "execution_count": 50,
   "metadata": {
    "collapsed": true
   },
   "outputs": [],
   "source": [
    "# import des librairies\n",
    "import numpy as np\n",
    "import matplotlib.pyplot as plt\n",
    "import pandas as pd\n",
    "import mysql.connector"
   ]
  },
  {
   "cell_type": "code",
   "execution_count": 51,
   "outputs": [],
   "source": [
    "# Lecture du fichier csv\n",
    "df = pd.read_csv('../data/fr-esr-insertion_professionnelle-master.csv', delimiter=';')"
   ],
   "metadata": {
    "collapsed": false,
    "pycharm": {
     "name": "#%%\n"
    }
   }
  },
  {
   "cell_type": "code",
   "execution_count": 52,
   "outputs": [],
   "source": [
    "# Connecter à la base de données\n",
    "mydb = mysql.connector.connect(\n",
    "  host=\"localhost\",\n",
    "  user=\"root\",\n",
    "  passwd=\"Goodboy.5\",\n",
    "  database=\"insertion_pro\",\n",
    "  auth_plugin='mysql_native_password'\n",
    ")"
   ],
   "metadata": {
    "collapsed": false,
    "pycharm": {
     "name": "#%%\n"
    }
   }
  },
  {
   "cell_type": "code",
   "execution_count": 53,
   "outputs": [],
   "source": [
    "# Remove all the rows where the column \"remarque\" is not empty\n",
    "df = df[df['remarque'].isnull()]"
   ],
   "metadata": {
    "collapsed": false,
    "pycharm": {
     "name": "#%%\n"
    }
   }
  },
  {
   "cell_type": "code",
   "execution_count": 54,
   "outputs": [],
   "source": [
    "## Insert values to Academie table\n",
    "# Fetch the needed columns\n",
    "id_academie = df['code_de_l_academie']\n",
    "nom_academie = df['academie']\n",
    "\n",
    "# Delete all duplicates id academies using panda's drop_duplicates function\n",
    "id_academie = id_academie.drop_duplicates()\n",
    "nom_academie = nom_academie.drop_duplicates()\n",
    "\n",
    "# Delete null values\n",
    "id_academie = id_academie.dropna()\n",
    "nom_academie = nom_academie.dropna()\n",
    "\n",
    "# Fetch only values\n",
    "id_academie = id_academie.values\n",
    "nom_academie = nom_academie.values"
   ],
   "metadata": {
    "collapsed": false,
    "pycharm": {
     "name": "#%%\n"
    }
   }
  },
  {
   "cell_type": "code",
   "execution_count": 55,
   "outputs": [],
   "source": [
    "# Insert values to Academie table\n",
    "for i in range(len(id_academie)):\n",
    "    sql = \"INSERT INTO academie (id_academie, nom_academie) VALUES (%s, %s)\"\n",
    "    val = (id_academie[i], nom_academie[i])\n",
    "    mycursor = mydb.cursor()\n",
    "    mycursor.execute(sql, val)\n",
    "    mydb.commit()"
   ],
   "metadata": {
    "collapsed": false,
    "pycharm": {
     "name": "#%%\n"
    }
   }
  },
  {
   "cell_type": "code",
   "execution_count": 56,
   "outputs": [],
   "source": [
    "## Insert values to Etablisement table\n",
    "# Fetch the needed columns\n",
    "# Delete all rows where numero_d_etablissement is duplicated\n",
    "df_id_etablissement = df.drop_duplicates(subset='numero_de_l_etablissement')\n",
    "\n",
    "# Delete all rows where id_academie is null\n",
    "df_id_etablissement = df_id_etablissement[df_id_etablissement['code_de_l_academie'].notnull()]\n",
    "\n",
    "# Replace all null values by None\n",
    "df_id_etablissement = df_id_etablissement.where((pd.notnull(df_id_etablissement)), None)\n",
    "\n",
    "# Fetch the needed columns\n",
    "id_etablissement = df_id_etablissement['numero_de_l_etablissement'].values\n",
    "id_academie = df_id_etablissement['code_de_l_academie'].values\n",
    "nom_etablissement = df_id_etablissement['etablissement'].values\n",
    "nom_etablissement_actuel = df_id_etablissement['etablissementactuel'].values"
   ],
   "metadata": {
    "collapsed": false,
    "pycharm": {
     "name": "#%%\n"
    }
   }
  },
  {
   "cell_type": "code",
   "execution_count": 57,
   "outputs": [],
   "source": [
    "# Insert values to Etablissement table\n",
    "# If value is nan then insert null\n",
    "# Check if the value is already in the table\n",
    "for i in range(len(id_etablissement)):\n",
    "    sql = \"SELECT * FROM etablissement WHERE id_etablissement = %s\"\n",
    "    val = (id_etablissement[i],)\n",
    "    mycursor = mydb.cursor()\n",
    "    mycursor.execute(sql, val)\n",
    "    myresult = mycursor.fetchall()\n",
    "    if len(myresult) == 0:\n",
    "        sql = \"INSERT INTO etablissement (id_etablissement, id_academie, nom_etablissement, nom_etablissement_actuel) VALUES (%s, %s, %s, %s)\"\n",
    "        val = (id_etablissement[i], id_academie[i], nom_etablissement[i], nom_etablissement_actuel[i])\n",
    "        mycursor = mydb.cursor()\n",
    "        mycursor.execute(sql, val)\n",
    "        mydb.commit()"
   ],
   "metadata": {
    "collapsed": false,
    "pycharm": {
     "name": "#%%\n"
    }
   }
  },
  {
   "cell_type": "code",
   "execution_count": 58,
   "outputs": [],
   "source": [
    "## Insert values to Domaine table\n",
    "# Fetch the needed columns\n",
    "code_domaine = df['code_du_domaine']\n",
    "nom_domaine = df['domaine']\n",
    "\n",
    "# Delete all duplicates id academies using panda's drop_duplicates function\n",
    "code_domaine = code_domaine.drop_duplicates()\n",
    "nom_domaine = nom_domaine.drop_duplicates()\n",
    "\n",
    "# Delete null values\n",
    "code_domaine = code_domaine.dropna()\n",
    "nom_domaine = nom_domaine.dropna()\n",
    "\n",
    "# Fetch only values\n",
    "code_domaine = code_domaine.values\n",
    "nom_domaine = nom_domaine.values\n"
   ],
   "metadata": {
    "collapsed": false,
    "pycharm": {
     "name": "#%%\n"
    }
   }
  },
  {
   "cell_type": "code",
   "execution_count": 59,
   "outputs": [],
   "source": [
    "# Insert values to Domaine table\n",
    "for i in range(len(code_domaine)):\n",
    "    sql = \"INSERT INTO domaine (code_domaine, nom_domaine) VALUES (%s, %s)\"\n",
    "    val = (code_domaine[i], nom_domaine[i])\n",
    "    mycursor = mydb.cursor()\n",
    "    mycursor.execute(sql, val)\n",
    "    mydb.commit()"
   ],
   "metadata": {
    "collapsed": false,
    "pycharm": {
     "name": "#%%\n"
    }
   }
  },
  {
   "cell_type": "code",
   "execution_count": 60,
   "outputs": [],
   "source": [
    "# Insert values to Discipline table\n",
    "# Fetch the needed columns\n",
    "# Delete all rows where code_de_la_discipline is duplicated\n",
    "df_code_discipline = df.drop_duplicates(subset='code_de_la_discipline')\n",
    "\n",
    "# Delete all rows where Domaine is null\n",
    "df_code_discipline = df_code_discipline[df_code_discipline['code_du_domaine'].notnull()]\n",
    "\n",
    "# Replace all null values by None\n",
    "df_code_discipline = df_code_discipline.where((pd.notnull(df_code_discipline)), None)\n",
    "\n",
    "# Fetch the needed columns\n",
    "id_discipline = df_code_discipline['code_de_la_discipline'].values\n",
    "code_domaine = df_code_discipline['code_du_domaine'].values\n",
    "nom_discipline = df_code_discipline['discipline'].values\n",
    "poids = df_code_discipline['poids_de_la_discipline'].values"
   ],
   "metadata": {
    "collapsed": false,
    "pycharm": {
     "name": "#%%\n"
    }
   }
  },
  {
   "cell_type": "code",
   "execution_count": 61,
   "outputs": [],
   "source": [
    "# Insert values to Discipline table\n",
    "# If value is nan then insert null\n",
    "# Check if the value is already in the table\n",
    "for i in range(len(id_discipline)):\n",
    "    sql = \"SELECT * FROM discipline WHERE id_discipline = %s\"\n",
    "    val = (id_discipline[i],)\n",
    "    mycursor = mydb.cursor()\n",
    "    mycursor.execute(sql, val)\n",
    "    myresult = mycursor.fetchall()\n",
    "    if len(myresult) == 0:\n",
    "        sql = \"INSERT INTO discipline (id_discipline, code_domaine, nom_discipline, poids) VALUES (%s, %s, %s, %s)\"\n",
    "        val = (id_discipline[i], code_domaine[i], nom_discipline[i], poids[i])\n",
    "        mycursor = mydb.cursor()\n",
    "        mycursor.execute(sql, val)\n",
    "        mydb.commit()"
   ],
   "metadata": {
    "collapsed": false,
    "pycharm": {
     "name": "#%%\n"
    }
   }
  },
  {
   "cell_type": "code",
   "execution_count": 93,
   "outputs": [],
   "source": [
    "# Insert values to Enquete table\n",
    "# Fetch the needed columns\n",
    "# Delete all rows where annee, situation and diplome are duplicated\n",
    "df_enquete = df.drop_duplicates(subset=['annee', 'situation', 'diplome'])\n",
    "\n",
    "# Delete all rows where annee, situation and diplome are null\n",
    "df_enquete = df_enquete[df_enquete['annee'].notnull()]\n",
    "df_enquete = df_enquete[df_enquete['situation'].notnull()]\n",
    "df_enquete = df_enquete[df_enquete['diplome'].notnull()]\n",
    "\n",
    "# Replace all null values by None\n",
    "df_enquete = df_enquete.where((pd.notnull(df_enquete)), None)\n",
    "\n",
    "# Fetch the needed columns\n",
    "annee = df_enquete['annee'].values\n",
    "situation = df_enquete['situation'].values\n",
    "diplome = df_enquete['diplome'].values"
   ],
   "metadata": {
    "collapsed": false,
    "pycharm": {
     "name": "#%%\n"
    }
   }
  },
  {
   "cell_type": "code",
   "execution_count": 94,
   "outputs": [],
   "source": [
    "# Convert to list\n",
    "annee = annee.tolist()\n",
    "situation = situation.tolist()\n",
    "diplome = diplome.tolist()"
   ],
   "metadata": {
    "collapsed": false,
    "pycharm": {
     "name": "#%%\n"
    }
   }
  },
  {
   "cell_type": "code",
   "execution_count": 96,
   "outputs": [],
   "source": [
    "# Insert values to Enquete table\n",
    "# If value is nan then insert null\n",
    "# Check if the value is already in the table\n",
    "for i in range(len(annee)):\n",
    "    sql = \"SELECT * FROM enquete WHERE annee = %s AND situation = %s AND diplome = %s\"\n",
    "    val = (annee[i], situation[i], diplome[i])\n",
    "    mycursor = mydb.cursor()\n",
    "    mycursor.execute(sql, val)\n",
    "    myresult = mycursor.fetchall()\n",
    "    if len(myresult) == 0:\n",
    "        sql = \"INSERT INTO enquete (annee, situation, diplome) VALUES (%s, %s, %s)\"\n",
    "        val = (annee[i], situation[i], diplome[i])\n",
    "        mycursor = mydb.cursor()\n",
    "        mycursor.execute(sql, val)\n",
    "        mydb.commit()\n"
   ],
   "metadata": {
    "collapsed": false,
    "pycharm": {
     "name": "#%%\n"
    }
   }
  },
  {
   "cell_type": "code",
   "execution_count": null,
   "outputs": [],
   "source": [
    "# Insert values to Statistiques table\n",
    "# Fetch the needed columns\n",
    "\n",
    "id_etablissement = df['id_etablissement']\n",
    "id_discipline = df['code_de_la_discipline']\n",
    "annee = df['annee']\n",
    "situation = df['situation']\n",
    "diplome = df['diplome']\n",
    "\n",
    "taux_dinsertion = df['taux_dinsertion']\n",
    "emplois_cadre_ou_professions_intermediaires = df['emplois_cadre_ou_professions_intermediaires']\n",
    "emplois_stables = df['emplois_stables']\n",
    "emplois_a_temps_plein = df['emplois_a_temps_plein']\n",
    "salaire_net_median_des_emplois_a_temps_plein = df['salaire_net_median_des_emplois_a_temps_plein']\n",
    "salaire_brut_annuel_estime = df['salaire_brut_annuel_estime']\n",
    "de_diplome_boursiers = df['de_diplome_boursiers']\n",
    "taux_de_chomage_regional = df['taux_de_chomage_regional']\n",
    "salaire_net_mensuel_median_regional = df['salaire_net_mensuel_median_regional']\n",
    "emplois_cadre = df['emplois_cadre']\n",
    "emplois_exterieurs_a_la_region_de_luniversite = df['emplois_exterieurs_a_la_region_de_luniversite']\n",
    "femmes = df['femmes']\n",
    "\n",
    "# Fetch the needed columns\n",
    "\n"
   ],
   "metadata": {
    "collapsed": false,
    "pycharm": {
     "name": "#%%\n"
    }
   }
  }
 ],
 "metadata": {
  "kernelspec": {
   "display_name": "Python 3",
   "language": "python",
   "name": "python3"
  },
  "language_info": {
   "codemirror_mode": {
    "name": "ipython",
    "version": 2
   },
   "file_extension": ".py",
   "mimetype": "text/x-python",
   "name": "python",
   "nbconvert_exporter": "python",
   "pygments_lexer": "ipython2",
   "version": "2.7.6"
  }
 },
 "nbformat": 4,
 "nbformat_minor": 0
}